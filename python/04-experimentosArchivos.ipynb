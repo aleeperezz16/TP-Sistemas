{
 "cells": [
  {
   "attachments": {},
   "cell_type": "markdown",
   "metadata": {},
   "source": [
    "# 02 | Experimentos"
   ]
  },
  {
   "cell_type": "code",
   "execution_count": 21,
   "metadata": {},
   "outputs": [],
   "source": [
    "import math, subprocess\n",
    "import pandas as pd\n",
    "import numpy as np\n",
    "import os\n",
    "from pathlib import Path\n",
    "from IPython.display import display, clear_output\n",
    "import statistics\n",
    "from random import seed\n",
    "from random import randint"
   ]
  },
  {
   "cell_type": "code",
   "execution_count": 22,
   "metadata": {},
   "outputs": [],
   "source": [
    "def getAllFilesAsListOfStrings( dir_path ):\n",
    "    dirPathAsString = dir_path \n",
    "    dir_paths = []\n",
    "    for f in os.listdir(dir_path):\n",
    "        dir_paths.append( dir_path + f )\n",
    "    return dir_paths"
   ]
  },
  {
   "cell_type": "code",
   "execution_count": 23,
   "metadata": {},
   "outputs": [],
   "source": [
    "THREADS = 30\n",
    "result_dir = \"archivos\"\n",
    "cantidadArchivos = 250\n",
    "cantidadPalabrasPorArchivo = 100\n",
    "ITERACIONES = 10"
   ]
  },
  {
   "cell_type": "code",
   "execution_count": 24,
   "metadata": {},
   "outputs": [],
   "source": [
    "def generarArchivoUniforme(nombreArchivo, largoPalabra, cantidadPalabras):\n",
    "    os.makedirs(F\"../data/uniforme/\", exist_ok=True)\n",
    "    pathArchivo = \"../data/uniforme/\" + nombreArchivo\n",
    "    archivo = open(pathArchivo, \"w\")\n",
    "    sal = \"\"\n",
    "    largoPalabra = largoPalabra\n",
    "    for i in range(cantidadPalabras):\n",
    "        for lp in range(largoPalabra):\n",
    "            sal += chr(randint(97, 122))\n",
    "        archivo.write(sal + \"\\n\")\n",
    "        sal = \"\"\n",
    "    return pathArchivo\n",
    "\n",
    "def generarCarpetaUniformes(cantArchivos, cantLetras, cantidadPalabras):\n",
    "    \n",
    "    if not os.path.exists(\"../data/uniforme/\"):\n",
    "        os.makedirs(\"../data/uniforme/\")\n",
    "\n",
    "    #borramos los archivos viejos para generar los nuevos\n",
    "    for f in os.listdir(\"../data/uniforme/\"):\n",
    "        os.remove(\"../data/uniforme/\"+ str(f) )\n",
    "\n",
    "    fileName = \"uniforme\"\n",
    "    for i in range(cantArchivos):\n",
    "        nombre = fileName + str(i)\n",
    "        generarArchivoUniforme(nombre, cantLetras, cantidadPalabras)"
   ]
  },
  {
   "cell_type": "code",
   "execution_count": 25,
   "metadata": {},
   "outputs": [],
   "source": [
    "def generarArchivoNormal(nombreArchivo, largoPalabra, cantidadPalabras, _sigma):\n",
    "    # a b c d e f g h i j k l m 13 n o p q r s t u v w x y z\n",
    "    mu= 109.5 #normal( 109.5, 3 ) \n",
    "    sigma = _sigma\n",
    "    #con estos valores, la probabilidad de generar un valor fuera del rago de los caracteres ascii es demasiado baja.\n",
    "    #de todas formas si se generara alguno, lo descartamos antes de convertirlo a char\n",
    "    os.makedirs(F\"../data/normal/\", exist_ok=True)\n",
    "    pathArchivo = \"../data/normal/\" + nombreArchivo\n",
    "    archivo = open(pathArchivo, \"w\")\n",
    "    sal = \"\"\n",
    "    largoPalabra = largoPalabra\n",
    "    for i in range(cantidadPalabras):\n",
    "        for lp in range(largoPalabra):\n",
    "            val = int(np.random.normal()*sigma + mu)\n",
    "            if val >=97 and val <= 122:\n",
    "                sal += chr(val)\n",
    "        archivo.write(sal + \"\\n\")\n",
    "        sal = \"\"\n",
    "    archivo.close()\n",
    "    return pathArchivo\n",
    "\n",
    "def generarCarpetaNormal(cantArchivos, cantLetras, cantidadPalabras, sigma):\n",
    "    fileName = \"normal\"\n",
    "    #si no existe la carpeta la creamos\n",
    "    if not os.path.exists(\"../data/normal/\"):\n",
    "        os.makedirs(\"../data/normal/\")\n",
    "        \n",
    "    #borramos los archivos viejos para generar los nuevos\n",
    "    for f in os.listdir(\"../data/normal/\"):\n",
    "        os.remove(\"../data/normal/\"+ str(f) )\n",
    "\n",
    "    for i in range(cantArchivos):\n",
    "        nombre = fileName + str(i)\n",
    "        generarArchivoNormal(nombre, cantLetras, cantidadPalabras, sigma)"
   ]
  },
  {
   "cell_type": "code",
   "execution_count": 26,
   "metadata": {},
   "outputs": [],
   "source": [
    "def correr_experimento(funcion, cant_threads, archivos_entradas):\n",
    "    # Crear proceso para ejecutar el codigo.\n",
    "    taskAndParameters = [ \"../build/archivos\", cant_threads, str(len(archivos_entradas))]\n",
    "    \n",
    "    for f in archivos_entradas:\n",
    "        taskAndParameters.append( os.path.abspath(f) )\n",
    "\n",
    "    process = subprocess.Popen(taskAndParameters, stderr=subprocess.PIPE, stdout=subprocess.PIPE, universal_newlines = True)\n",
    "\n",
    "    # Correr experimento.\n",
    "    exit_code = process.wait()\n",
    "\n",
    "    # Verificar que el proceso no fallo.\n",
    "    if exit_code != 0:\n",
    "        print(exit_code)\n",
    "        print(process.stderr.read())\n",
    "        process.stderr.close()\n",
    "        raise(F\"Hubo un error en la experimentacion: {funcion} con la instancia {archivo_entrada}.\")\n",
    "    # Leer salida de STDERR con los tiempos de ejecucion de cada metodo.\n",
    "    # [cant threads , cantidad archivos, tiempo promedio, maximoasignado, minimo asignado, media restante]\n",
    "    resultado = process.stdout.readline()\n",
    "    process.stdout.close()\n",
    "    process.stderr.close()\n",
    "       \n",
    "    return resultado.split(\" \")"
   ]
  },
  {
   "cell_type": "code",
   "execution_count": 27,
   "metadata": {},
   "outputs": [],
   "source": [
    "def suma(s,t):\n",
    "    res = [0.0]*len(s)\n",
    "    for i in range( len(s) ):\n",
    "        res [i] = float(s[i]) + float(t[i])\n",
    "    return res\n",
    "def promedio(s, repe):\n",
    "    res = [0.0]*len(s)\n",
    "    for i in range(len(s)):\n",
    "        res[i] = s[i] / int(repe)\n",
    "    return res"
   ]
  },
  {
   "cell_type": "code",
   "execution_count": 28,
   "metadata": {},
   "outputs": [
    {
     "data": {
      "text/plain": [
       "'Ejecutando carpetas uniforme con cantidad de Threads 1 '"
      ]
     },
     "metadata": {},
     "output_type": "display_data"
    },
    {
     "ename": "TypeError",
     "evalue": "expected str, bytes or os.PathLike object, not int",
     "output_type": "error",
     "traceback": [
      "\u001b[0;31m---------------------------------------------------------------------------\u001b[0m",
      "\u001b[0;31mTypeError\u001b[0m                                 Traceback (most recent call last)",
      "Cell \u001b[0;32mIn[28], line 14\u001b[0m\n\u001b[1;32m     12\u001b[0m salida_temp \u001b[39m=\u001b[39m [\u001b[39m0.0\u001b[39m]\u001b[39m*\u001b[39m\u001b[39m5\u001b[39m\n\u001b[1;32m     13\u001b[0m \u001b[39mfor\u001b[39;00m i \u001b[39min\u001b[39;00m \u001b[39mrange\u001b[39m (ITERACIONES):\n\u001b[0;32m---> 14\u001b[0m     salida \u001b[39m=\u001b[39m correr_experimento(\u001b[39m\"\u001b[39;49m\u001b[39marchivos\u001b[39;49m\u001b[39m\"\u001b[39;49m, \u001b[39mstr\u001b[39;49m(t), file_paths )\n\u001b[1;32m     15\u001b[0m     salida_temp \u001b[39m=\u001b[39m suma( salida_temp, salida )\n\u001b[1;32m     16\u001b[0m salida_temp \u001b[39m=\u001b[39m promedio(salida_temp, ITERACIONES)\n",
      "Cell \u001b[0;32mIn[26], line 8\u001b[0m, in \u001b[0;36mcorrer_experimento\u001b[0;34m(funcion, cant_threads, archivos_entradas)\u001b[0m\n\u001b[1;32m      5\u001b[0m \u001b[39mfor\u001b[39;00m f \u001b[39min\u001b[39;00m archivos_entradas:\n\u001b[1;32m      6\u001b[0m     taskAndParameters\u001b[39m.\u001b[39mappend( os\u001b[39m.\u001b[39mpath\u001b[39m.\u001b[39mabspath(f) )\n\u001b[0;32m----> 8\u001b[0m process \u001b[39m=\u001b[39m subprocess\u001b[39m.\u001b[39;49mPopen(taskAndParameters, stderr\u001b[39m=\u001b[39;49msubprocess\u001b[39m.\u001b[39;49mPIPE, stdout\u001b[39m=\u001b[39;49msubprocess\u001b[39m.\u001b[39;49mPIPE, universal_newlines \u001b[39m=\u001b[39;49m \u001b[39mTrue\u001b[39;49;00m)\n\u001b[1;32m     10\u001b[0m \u001b[39m# Correr experimento.\u001b[39;00m\n\u001b[1;32m     11\u001b[0m exit_code \u001b[39m=\u001b[39m process\u001b[39m.\u001b[39mwait()\n",
      "File \u001b[0;32m/usr/lib/python3.10/subprocess.py:969\u001b[0m, in \u001b[0;36mPopen.__init__\u001b[0;34m(self, args, bufsize, executable, stdin, stdout, stderr, preexec_fn, close_fds, shell, cwd, env, universal_newlines, startupinfo, creationflags, restore_signals, start_new_session, pass_fds, user, group, extra_groups, encoding, errors, text, umask, pipesize)\u001b[0m\n\u001b[1;32m    965\u001b[0m         \u001b[39mif\u001b[39;00m \u001b[39mself\u001b[39m\u001b[39m.\u001b[39mtext_mode:\n\u001b[1;32m    966\u001b[0m             \u001b[39mself\u001b[39m\u001b[39m.\u001b[39mstderr \u001b[39m=\u001b[39m io\u001b[39m.\u001b[39mTextIOWrapper(\u001b[39mself\u001b[39m\u001b[39m.\u001b[39mstderr,\n\u001b[1;32m    967\u001b[0m                     encoding\u001b[39m=\u001b[39mencoding, errors\u001b[39m=\u001b[39merrors)\n\u001b[0;32m--> 969\u001b[0m     \u001b[39mself\u001b[39;49m\u001b[39m.\u001b[39;49m_execute_child(args, executable, preexec_fn, close_fds,\n\u001b[1;32m    970\u001b[0m                         pass_fds, cwd, env,\n\u001b[1;32m    971\u001b[0m                         startupinfo, creationflags, shell,\n\u001b[1;32m    972\u001b[0m                         p2cread, p2cwrite,\n\u001b[1;32m    973\u001b[0m                         c2pread, c2pwrite,\n\u001b[1;32m    974\u001b[0m                         errread, errwrite,\n\u001b[1;32m    975\u001b[0m                         restore_signals,\n\u001b[1;32m    976\u001b[0m                         gid, gids, uid, umask,\n\u001b[1;32m    977\u001b[0m                         start_new_session)\n\u001b[1;32m    978\u001b[0m \u001b[39mexcept\u001b[39;00m:\n\u001b[1;32m    979\u001b[0m     \u001b[39m# Cleanup if the child failed starting.\u001b[39;00m\n\u001b[1;32m    980\u001b[0m     \u001b[39mfor\u001b[39;00m f \u001b[39min\u001b[39;00m \u001b[39mfilter\u001b[39m(\u001b[39mNone\u001b[39;00m, (\u001b[39mself\u001b[39m\u001b[39m.\u001b[39mstdin, \u001b[39mself\u001b[39m\u001b[39m.\u001b[39mstdout, \u001b[39mself\u001b[39m\u001b[39m.\u001b[39mstderr)):\n",
      "File \u001b[0;32m/usr/lib/python3.10/subprocess.py:1778\u001b[0m, in \u001b[0;36mPopen._execute_child\u001b[0;34m(self, args, executable, preexec_fn, close_fds, pass_fds, cwd, env, startupinfo, creationflags, shell, p2cread, p2cwrite, c2pread, c2pwrite, errread, errwrite, restore_signals, gid, gids, uid, umask, start_new_session)\u001b[0m\n\u001b[1;32m   1776\u001b[0m     fds_to_keep \u001b[39m=\u001b[39m \u001b[39mset\u001b[39m(pass_fds)\n\u001b[1;32m   1777\u001b[0m     fds_to_keep\u001b[39m.\u001b[39madd(errpipe_write)\n\u001b[0;32m-> 1778\u001b[0m     \u001b[39mself\u001b[39m\u001b[39m.\u001b[39mpid \u001b[39m=\u001b[39m _posixsubprocess\u001b[39m.\u001b[39;49mfork_exec(\n\u001b[1;32m   1779\u001b[0m             args, executable_list,\n\u001b[1;32m   1780\u001b[0m             close_fds, \u001b[39mtuple\u001b[39;49m(\u001b[39msorted\u001b[39;49m(\u001b[39mmap\u001b[39;49m(\u001b[39mint\u001b[39;49m, fds_to_keep))),\n\u001b[1;32m   1781\u001b[0m             cwd, env_list,\n\u001b[1;32m   1782\u001b[0m             p2cread, p2cwrite, c2pread, c2pwrite,\n\u001b[1;32m   1783\u001b[0m             errread, errwrite,\n\u001b[1;32m   1784\u001b[0m             errpipe_read, errpipe_write,\n\u001b[1;32m   1785\u001b[0m             restore_signals, start_new_session,\n\u001b[1;32m   1786\u001b[0m             gid, gids, uid, umask,\n\u001b[1;32m   1787\u001b[0m             preexec_fn)\n\u001b[1;32m   1788\u001b[0m     \u001b[39mself\u001b[39m\u001b[39m.\u001b[39m_child_created \u001b[39m=\u001b[39m \u001b[39mTrue\u001b[39;00m\n\u001b[1;32m   1789\u001b[0m \u001b[39mfinally\u001b[39;00m:\n\u001b[1;32m   1790\u001b[0m     \u001b[39m# be sure the FD is closed no matter what\u001b[39;00m\n",
      "\u001b[0;31mTypeError\u001b[0m: expected str, bytes or os.PathLike object, not int"
     ]
    }
   ],
   "source": [
    "dir_paths = \"../data/uniforme/\"\n",
    "entries = []\n",
    "carpeta = \"uniforme\"\n",
    "\n",
    "generarCarpetaUniformes( cantidadArchivos, 6, cantidadPalabrasPorArchivo )\n",
    "\n",
    "file_paths = getAllFilesAsListOfStrings(dir_paths)\n",
    "\n",
    "for t in range( 1, THREADS+1 ):\n",
    "    clear_output(wait=True)\n",
    "    display(F\"Ejecutando carpetas {carpeta} con cantidad de Threads {t} \" )\n",
    "    salida_temp = [0.0]*5\n",
    "    for i in range (ITERACIONES):\n",
    "        salida = correr_experimento(\"archivos\", str(t), file_paths )\n",
    "        salida_temp = suma( salida_temp, salida )\n",
    "    salida_temp = promedio(salida_temp, ITERACIONES)\n",
    "    entries.append(salida_temp)\n",
    "\n",
    "df_resultado = pd.DataFrame(entries, columns=[\"cantThreads\", \"cantArchivos\", \"tiempoTotal\", \"tiempoMedio\", \"medLoad\"])\n",
    "os.makedirs(F\"results/{result_dir}/\", exist_ok=True)\n",
    "\n",
    "display(F\"Guardando los resultados en el archivo results/{result_dir}/uniforme.csv\")\n",
    "df_resultado.to_csv(F\"results/{result_dir}/uniforme.csv\", index=False, header=True)\n"
   ]
  },
  {
   "cell_type": "code",
   "execution_count": null,
   "metadata": {},
   "outputs": [],
   "source": [
    "dir_paths = \"../data/normal/\"\n",
    "entries = []\n",
    "carpeta = \"normal\"\n",
    "\n",
    "generarCarpetaNormal(cantidadArchivos, 6, cantidadPalabrasPorArchivo, 3)\n",
    "\n",
    "file_paths = getAllFilesAsListOfStrings(dir_paths)\n",
    "\n",
    "for t in range( 1, THREADS+1 ):\n",
    "    clear_output(wait=True)\n",
    "    display(F\"Ejecutando carpetas {carpeta} con cantidad de Threads {t} \" )\n",
    "    salida_temp = [0.0]*5\n",
    "    for i in range(ITERACIONES):\n",
    "        salida = correr_experimento(\"CargarArchivos\", str(t), file_paths)\n",
    "        salida_temp = suma(salida_temp, salida)\n",
    "    salida_temp = promedio(salida_temp, ITERACIONES)\n",
    "    entries.append(salida_temp)\n",
    "\n",
    "df_resultado = pd.DataFrame(entries, columns=[\"cantThreads\", \"cantArchivos\", \"tiempoTotal\", \"tiempoMedio\", \"medLoad\"])\n",
    "os.makedirs(F\"results/{result_dir}/\", exist_ok=True)\n",
    "\n",
    "clear_output(wait=True)\n",
    "display(F\"Guardando los resultados en el archivo results/{result_dir}/normalsigma3.csv\")\n",
    "df_resultado.to_csv(F\"results/{result_dir}/normalsigma3.csv\", index=False, header=True)"
   ]
  },
  {
   "cell_type": "code",
   "execution_count": null,
   "metadata": {},
   "outputs": [],
   "source": [
    "sigmas = [\"0.125\", \"0.25\", \"0.5\", \"1\", \"2\", \"3\", \"4\", \"8\"]\n",
    "entries = []\n",
    "\n",
    "dir_normal = \"../data/normal/\"\n",
    "\n",
    "for sigma in sigmas:\n",
    "    entries = []\n",
    "    for i in range(100, 1001, 100):\n",
    "        generarCarpetaNormal( 100, 10, i, float(sigma) )\n",
    "        file_paths = getAllFilesAsListOfStrings(dir_normal)\n",
    "        clear_output(wait=True)\n",
    "        salida_temp = [0.0]*5\n",
    "        for j in range(3):\n",
    "            salida = correr_experimento(\"CargarArchivos\", str(4), file_paths)\n",
    "            salida_temp = suma(salida_temp, salida)\n",
    "        salida_temp = promedio(salida_temp, ITERACIONES)\n",
    "        salida_temp.append(i)\n",
    "        entries.append(salida_temp)\n",
    "        df_resultado = pd.DataFrame(entries, columns=[\"cantThreads\", \"cantArchivos\", \"tiempoTotal\",\"tiempoMedio\", \"medLoad\", \"cantPalabras\"])\n",
    "        os.makedirs( F\"results/{result_dir}/\", exist_ok=True )\n",
    "    clear_output(wait=True)\n",
    "    display(F\"Guardando los resultados en el archivo results/{result_dir}/sigma{sigma}variandocantPalabras.csv\")\n",
    "    df_resultado.to_csv(F\"results/{result_dir}/sigma{sigma}variandocantPalabras.csv\", index=False, header=True)\n",
    "\n"
   ]
  }
 ],
 "metadata": {
  "interpreter": {
   "hash": "31f2aee4e71d21fbe5cf8b01ff0e069b9275f58929596ceb00d14d90e3e16cd6"
  },
  "kernelspec": {
   "display_name": "Python 3.8.10 64-bit",
   "language": "python",
   "name": "python3"
  },
  "language_info": {
   "codemirror_mode": {
    "name": "ipython",
    "version": 3
   },
   "file_extension": ".py",
   "mimetype": "text/x-python",
   "name": "python",
   "nbconvert_exporter": "python",
   "pygments_lexer": "ipython3",
   "version": "3.10.6"
  },
  "orig_nbformat": 4
 },
 "nbformat": 4,
 "nbformat_minor": 2
}
