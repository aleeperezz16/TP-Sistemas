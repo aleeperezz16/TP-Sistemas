{
 "cells": [
  {
   "attachments": {},
   "cell_type": "markdown",
   "metadata": {},
   "source": [
    "# 01 | Generación de instancias"
   ]
  },
  {
   "cell_type": "code",
   "execution_count": null,
   "metadata": {},
   "outputs": [],
   "source": [
    "import pandas as pd\n",
    "import numpy as np\n",
    "import os\n",
    "from random import randint"
   ]
  },
  {
   "cell_type": "code",
   "execution_count": null,
   "metadata": {},
   "outputs": [],
   "source": [
    "ASCII_A = 97\n",
    "ASCII_Z = 122 "
   ]
  },
  {
   "attachments": {},
   "cell_type": "markdown",
   "metadata": {},
   "source": [
    "## Generador de instancias con _k_ palabras por letra"
   ]
  },
  {
   "cell_type": "code",
   "execution_count": null,
   "metadata": {},
   "outputs": [],
   "source": [
    "def generarArchivoBalanceado(nombreArchivo, largoPalabra, k):\n",
    "    os.makedirs(F\"../data/balanceado/\", exist_ok=True)\n",
    "    pathArchivo = \"../data/balanceado/\" + nombreArchivo\n",
    "    archivo = open(pathArchivo, \"w\")\n",
    "    for l in range(ASCII_A, ASCII_Z + 1):\n",
    "        for i in range(k):\n",
    "            sal = chr(l)\n",
    "            for lp in np.random.randint(ASCII_A, ASCII_Z, largoPalabra - 1):\n",
    "                sal += chr(lp)\n",
    "            archivo.write(sal + \"\\n\")\n",
    "    return pathArchivo"
   ]
  },
  {
   "attachments": {},
   "cell_type": "markdown",
   "metadata": {},
   "source": [
    "## Generador de instancias con distribución _Uniforme_"
   ]
  },
  {
   "cell_type": "code",
   "execution_count": null,
   "metadata": {},
   "outputs": [],
   "source": [
    "def generarArchivoUniforme(nombreArchivo, largoPalabra, cantidadPalabras):\n",
    "    os.makedirs(F\"../data/\", exist_ok=True)\n",
    "    pathArchivo = \"../data/\" + nombreArchivo\n",
    "    archivo = open(pathArchivo, \"w\")\n",
    "    sal = \"\"\n",
    "    largoPalabra = largoPalabra\n",
    "    for i in range(cantidadPalabras):\n",
    "        for lp in range(largoPalabra):\n",
    "            sal += chr(randint(97, 122))\n",
    "        archivo.write(sal + \"\\n\")\n",
    "        sal = \"\"\n",
    "    return pathArchivo"
   ]
  },
  {
   "attachments": {},
   "cell_type": "markdown",
   "metadata": {},
   "source": [
    "## Generador de instancias con distribución _Normal_"
   ]
  },
  {
   "cell_type": "code",
   "execution_count": null,
   "metadata": {},
   "outputs": [],
   "source": [
    "def generarArchivoNormal(nombreArchivo, largoPalabra, cantidadPalabras):\n",
    "    # a b c d e f g h i j k l m 13 n o p q r s t u v w x y z\n",
    "    mu, sigma = 109.5, 3 #normal( 109.5, 3 ) \n",
    "    os.makedirs(F\"../data/\", exist_ok=True)\n",
    "    pathArchivo = \"../data/\" + nombreArchivo\n",
    "    archivo = open(pathArchivo, \"w\")\n",
    "    sal = \"\"\n",
    "    largoPalabra = largoPalabra\n",
    "    for i in range(cantidadPalabras):\n",
    "        for lp in range(largoPalabra):\n",
    "            sal += chr(int(np.random.normal()*sigma + mu))\n",
    "        archivo.write(sal + \"\\n\")\n",
    "        sal = \"\"\n",
    "    archivo.close()\n",
    "    return pathArchivo"
   ]
  },
  {
   "attachments": {},
   "cell_type": "markdown",
   "metadata": {},
   "source": [
    "## Instancias utilizadas"
   ]
  },
  {
   "attachments": {},
   "cell_type": "markdown",
   "metadata": {},
   "source": [
    "### Instancias particulares"
   ]
  },
  {
   "cell_type": "code",
   "execution_count": null,
   "metadata": {},
   "outputs": [],
   "source": [
    "generarArchivoUniforme(\"uniforme-base\", 10, 30000)\n",
    "generarArchivoNormal(\"normal-base\", 10, 26000)\n",
    "#generarArchivoBalanceado(\"balanceado-base\", 10, 1000)"
   ]
  },
  {
   "attachments": {},
   "cell_type": "markdown",
   "metadata": {},
   "source": [
    "### Instancias uniformes con cantidad de palabras k = 100, 200, 300, ..., 38500, 39000"
   ]
  },
  {
   "cell_type": "code",
   "execution_count": null,
   "metadata": {},
   "outputs": [],
   "source": [
    "MAX_K = 26 * 1500\n",
    "for k in range(100, MAX_K + 1, 100):\n",
    "    generarArchivoUniforme(\"uniforme-\" + str(k), 10, k)"
   ]
  },
  {
   "attachments": {},
   "cell_type": "markdown",
   "metadata": {},
   "source": [
    "### Instancias uniformes"
   ]
  },
  {
   "cell_type": "code",
   "execution_count": null,
   "metadata": {},
   "outputs": [],
   "source": [
    "def generarCarpetaUniformes(cantArchivos, cantLetras, cantidadPalabras):\n",
    "    fileName = \"uniforme\"\n",
    "    for i in range(cantArchivos):\n",
    "        nombre = fileName + str(i)\n",
    "        generarArchivoUniforme(nombre, cantLetras, cantidadPalabras)"
   ]
  },
  {
   "attachments": {},
   "cell_type": "markdown",
   "metadata": {},
   "source": [
    "### Instancias normales"
   ]
  },
  {
   "cell_type": "code",
   "execution_count": null,
   "metadata": {},
   "outputs": [],
   "source": [
    "def generarCarpetaNormal(cantArchivos, cantLetras, cantidadPalabras):\n",
    "    fileName = \"normal\"\n",
    "    for i in range(cantArchivos):\n",
    "        nombre = fileName + str(i)\n",
    "        generarArchivoNormal(nombre, cantLetras, cantidadPalabras)"
   ]
  },
  {
   "attachments": {},
   "cell_type": "markdown",
   "metadata": {},
   "source": [
    "## Análisis de las instancias"
   ]
  },
  {
   "cell_type": "code",
   "execution_count": null,
   "metadata": {},
   "outputs": [],
   "source": [
    "from collections import Counter\n",
    "\n",
    "# Normal\n",
    "dataset = pd.read_table(\"../data/normal-base\", header=None)\n",
    "letters = [w[0] for w in dataset[0].values.tolist()]\n",
    "letters.sort()\n",
    "letter_count = Counter(letters)\n",
    "df = pd.DataFrame.from_dict(letter_count, orient='index')\n",
    "df.plot(kind='bar')\n",
    "\n",
    "# Uniforme\n",
    "dataset = pd.read_table(\"../data/uniforme-base\", header=None)\n",
    "letters = [w[0] for w in dataset[0].values.tolist()]\n",
    "letters.sort()\n",
    "letter_count = Counter(letters)\n",
    "df = pd.DataFrame.from_dict(letter_count, orient='index')\n",
    "df.plot(kind='bar')\n"
   ]
  }
 ],
 "metadata": {
  "interpreter": {
   "hash": "916dbcbb3f70747c44a77c7bcd40155683ae19c65e1c03b4aa3499c5328201f1"
  },
  "kernelspec": {
   "display_name": "Python 3.8.10 64-bit",
   "language": "python",
   "name": "python3"
  },
  "language_info": {
   "codemirror_mode": {
    "name": "ipython",
    "version": 3
   },
   "file_extension": ".py",
   "mimetype": "text/x-python",
   "name": "python",
   "nbconvert_exporter": "python",
   "pygments_lexer": "ipython3",
   "version": "3.8.10"
  },
  "orig_nbformat": 4
 },
 "nbformat": 4,
 "nbformat_minor": 2
}
