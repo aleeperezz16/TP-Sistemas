{
 "cells": [
  {
   "attachments": {},
   "cell_type": "markdown",
   "metadata": {},
   "source": [
    "# Gráficos"
   ]
  },
  {
   "cell_type": "code",
   "execution_count": null,
   "metadata": {},
   "outputs": [],
   "source": [
    "import matplotlib.pyplot as plt\n",
    "import numpy as np\n",
    "import pandas as pd\n",
    "import seaborn as sns\n",
    "import os"
   ]
  },
  {
   "cell_type": "code",
   "execution_count": null,
   "metadata": {},
   "outputs": [],
   "source": [
    "maximo_tiempos = pd.read_csv(\"results/maximo-tiempos/indice.csv\")\n",
    "maximo_comparacion = pd.read_csv(\"results/maximo-single-vs-paralelo/indice.csv\")\n",
    "\n",
    "sns.set_style(\"darkgrid\")"
   ]
  },
  {
   "attachments": {},
   "cell_type": "markdown",
   "metadata": {},
   "source": [
    "## Experimento 1: Tiempo de ejecución en función de la cantidad de threads"
   ]
  },
  {
   "cell_type": "code",
   "execution_count": null,
   "metadata": {},
   "outputs": [],
   "source": [
    "data = maximo_tiempos.copy()\n",
    "\n",
    "sizes = [10000, 20000, 40000, 50000]\n",
    "for s in sizes:\n",
    "    size_k = data.query(F\"dataset in ('uniforme-{s}', 'normal-{s}')\")\n",
    "\n",
    "    g = sns.lineplot(data=size_k, x=\"threads\", y=\"tiempo\", hue=\"dataset\", style=\"dataset\", markers=True, err_style=\"band\")\n",
    "    g.set_xticks(range(1,21))\n",
    "    plt.legend([F\"uniforme-{s}\", F\"normal-{s}\"])\n",
    "    plt.xlabel(\"Cantidad de threads\")\n",
    "    plt.ylabel(\"Tiempo de ejecución (ms)\")\n",
    "    plt.ylim((0, 6))\n",
    "    plt.savefig(F\"results/maximo-tiempos/max-experimento1-{s}-a.svg\")\n",
    "    plt.show()"
   ]
  },
  {
   "cell_type": "code",
   "execution_count": null,
   "metadata": {},
   "outputs": [],
   "source": [
    "# Zoom sobre cantidad de threads\n",
    "for s in sizes:\n",
    "    size_k = data.query(F\"dataset in ('uniforme-{s}', 'normal-{s}')\")\n",
    "\n",
    "    g = sns.lineplot(data=size_k, x=\"threads\", y=\"tiempo\", hue=\"dataset\", style=\"dataset\", markers=True, err_style=\"band\")\n",
    "    g.set_xticks(range(1,11))\n",
    "    g.set_xlim(1,10)\n",
    "    g.set_ylim(0,4)\n",
    "    plt.legend([\"normal\", \"uniforme\"])\n",
    "    plt.xlabel(\"Cantidad de threads\")\n",
    "    plt.ylabel(\"Tiempo de ejecucion (ms)\")\n",
    "    plt.savefig(F\"results/maximo-tiempos/max-experimento1-{s}-b.svg\")\n",
    "    plt.show()"
   ]
  },
  {
   "attachments": {},
   "cell_type": "markdown",
   "metadata": {},
   "source": [
    "## Experimento 2: Tiempo de ejecución para una cantidad de threads \"óptima\" vs. utilizar un thread, en función de la cantidad de palabras"
   ]
  },
  {
   "cell_type": "code",
   "execution_count": null,
   "metadata": {},
   "outputs": [],
   "source": [
    "# Constantes\n",
    "RANGO_START = 500\n",
    "RANGO_END   = 50000\n",
    "RANGO_STEP  = 500"
   ]
  },
  {
   "cell_type": "code",
   "execution_count": null,
   "metadata": {},
   "outputs": [],
   "source": [
    "# Instancias UNIFORMES\n",
    "data = maximo_comparacion.copy()\n",
    "data = data[data[\"dataset\"] == \"uniforme\"]\n",
    "\n",
    "g = sns.lineplot(data=data, x='palabras', y='tiempo', hue='funcion', style=\"funcion\", markers=False, err_style=\"band\")\n",
    "plt.xlabel(\"Cantidad de palabras\")\n",
    "plt.ylabel(\"Tiempo de ejecución (ms)\")\n",
    "plt.savefig('results/maximo-single-vs-paralelo/max-experimento2-a.svg')\n",
    "plt.show()"
   ]
  },
  {
   "cell_type": "code",
   "execution_count": null,
   "metadata": {},
   "outputs": [],
   "source": [
    "# Instancias NORMALES\n",
    "data = maximo_comparacion.copy()\n",
    "data = data[data[\"dataset\"] == \"normal\"]\n",
    "\n",
    "g = sns.lineplot(data=data, x='palabras', y='tiempo', hue='funcion', style=\"funcion\", markers=False, err_style=\"band\")\n",
    "plt.xlabel(\"Cantidad de palabras\")\n",
    "plt.ylabel(\"Tiempo de ejecución (ms)\")\n",
    "plt.savefig('results/maximo-single-vs-paralelo/max-experimento2-b.svg')\n",
    "plt.show()"
   ]
  }
 ],
 "metadata": {
  "kernelspec": {
   "display_name": "Python 3.9.7 ('base')",
   "language": "python",
   "name": "python3"
  },
  "language_info": {
   "codemirror_mode": {
    "name": "ipython",
    "version": 3
   },
   "file_extension": ".py",
   "mimetype": "text/x-python",
   "name": "python",
   "nbconvert_exporter": "python",
   "pygments_lexer": "ipython3",
   "version": "3.8.10"
  },
  "orig_nbformat": 4,
  "vscode": {
   "interpreter": {
    "hash": "14611386fa2cd4265c4f0b62a048cd6d8d2bc09cf37ba48879354d3817581274"
   }
  }
 },
 "nbformat": 4,
 "nbformat_minor": 2
}
